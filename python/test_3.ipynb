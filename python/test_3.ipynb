{
 "cells": [
  {
   "cell_type": "code",
   "execution_count": 8,
   "metadata": {},
   "outputs": [
    {
     "name": "stdout",
     "output_type": "stream",
     "text": [
      "832 ns ± 10.2 ns per loop (mean ± std. dev. of 7 runs, 1000000 loops each)\n"
     ]
    }
   ],
   "source": [
    "normal_list = range(10)\n",
    "%timeit [x*x for x in normal_list]\n"
   ]
  },
  {
   "cell_type": "code",
   "execution_count": 9,
   "metadata": {},
   "outputs": [
    {
     "name": "stdout",
     "output_type": "stream",
     "text": [
      "764 ns ± 13.8 ns per loop (mean ± std. dev. of 7 runs, 1000000 loops each)\n"
     ]
    }
   ],
   "source": [
    "import numpy as np\n",
    "np_list = np.arange(10)\n",
    "%timeit np_list**2"
   ]
  },
  {
   "cell_type": "code",
   "execution_count": 12,
   "metadata": {},
   "outputs": [
    {
     "data": {
      "text/plain": [
       "array([[[1., 1., 1.],\n",
       "        [1., 1., 1.]]])"
      ]
     },
     "execution_count": 12,
     "metadata": {},
     "output_type": "execute_result"
    }
   ],
   "source": [
    "import numpy as np\n",
    "np.zeros(10)\n",
    "np.zeros((3,2))\n",
    "np.ones((3,2))\n",
    "np_list = np.ones(((1,2,3)))\n",
    "np.ones_like(np_list)"
   ]
  },
  {
   "cell_type": "code",
   "execution_count": 14,
   "metadata": {},
   "outputs": [
    {
     "name": "stdout",
     "output_type": "stream",
     "text": [
      "[[1 2 3 4]\n",
      " [5 6 7 8]]\n"
     ]
    }
   ],
   "source": [
    "data = [[1,2,3,4],[5,6,7,8]]\n",
    "arr_np = np.array(data)\n",
    "print(arr_np)"
   ]
  },
  {
   "cell_type": "code",
   "execution_count": 15,
   "metadata": {},
   "outputs": [
    {
     "name": "stdout",
     "output_type": "stream",
     "text": [
      "Help on function linspace in module numpy.core.function_base:\n",
      "\n",
      "linspace(start, stop, num=50, endpoint=True, retstep=False, dtype=None)\n",
      "    Return evenly spaced numbers over a specified interval.\n",
      "    \n",
      "    Returns `num` evenly spaced samples, calculated over the\n",
      "    interval [`start`, `stop`].\n",
      "    \n",
      "    The endpoint of the interval can optionally be excluded.\n",
      "    \n",
      "    Parameters\n",
      "    ----------\n",
      "    start : scalar\n",
      "        The starting value of the sequence.\n",
      "    stop : scalar\n",
      "        The end value of the sequence, unless `endpoint` is set to False.\n",
      "        In that case, the sequence consists of all but the last of ``num + 1``\n",
      "        evenly spaced samples, so that `stop` is excluded.  Note that the step\n",
      "        size changes when `endpoint` is False.\n",
      "    num : int, optional\n",
      "        Number of samples to generate. Default is 50. Must be non-negative.\n",
      "    endpoint : bool, optional\n",
      "        If True, `stop` is the last sample. Otherwise, it is not included.\n",
      "        Default is True.\n",
      "    retstep : bool, optional\n",
      "        If True, return (`samples`, `step`), where `step` is the spacing\n",
      "        between samples.\n",
      "    dtype : dtype, optional\n",
      "        The type of the output array.  If `dtype` is not given, infer the data\n",
      "        type from the other input arguments.\n",
      "    \n",
      "        .. versionadded:: 1.9.0\n",
      "    \n",
      "    Returns\n",
      "    -------\n",
      "    samples : ndarray\n",
      "        There are `num` equally spaced samples in the closed interval\n",
      "        ``[start, stop]`` or the half-open interval ``[start, stop)``\n",
      "        (depending on whether `endpoint` is True or False).\n",
      "    step : float, optional\n",
      "        Only returned if `retstep` is True\n",
      "    \n",
      "        Size of spacing between samples.\n",
      "    \n",
      "    \n",
      "    See Also\n",
      "    --------\n",
      "    arange : Similar to `linspace`, but uses a step size (instead of the\n",
      "             number of samples).\n",
      "    logspace : Samples uniformly distributed in log space.\n",
      "    \n",
      "    Examples\n",
      "    --------\n",
      "    >>> np.linspace(2.0, 3.0, num=5)\n",
      "    array([ 2.  ,  2.25,  2.5 ,  2.75,  3.  ])\n",
      "    >>> np.linspace(2.0, 3.0, num=5, endpoint=False)\n",
      "    array([ 2. ,  2.2,  2.4,  2.6,  2.8])\n",
      "    >>> np.linspace(2.0, 3.0, num=5, retstep=True)\n",
      "    (array([ 2.  ,  2.25,  2.5 ,  2.75,  3.  ]), 0.25)\n",
      "    \n",
      "    Graphical illustration:\n",
      "    \n",
      "    >>> import matplotlib.pyplot as plt\n",
      "    >>> N = 8\n",
      "    >>> y = np.zeros(N)\n",
      "    >>> x1 = np.linspace(0, 10, N, endpoint=True)\n",
      "    >>> x2 = np.linspace(0, 10, N, endpoint=False)\n",
      "    >>> plt.plot(x1, y, 'o')\n",
      "    [<matplotlib.lines.Line2D object at 0x...>]\n",
      "    >>> plt.plot(x2, y + 0.5, 'o')\n",
      "    [<matplotlib.lines.Line2D object at 0x...>]\n",
      "    >>> plt.ylim([-0.5, 1])\n",
      "    (-0.5, 1)\n",
      "    >>> plt.show()\n",
      "\n"
     ]
    }
   ],
   "source": [
    "help(np.linspace)\n"
   ]
  },
  {
   "cell_type": "code",
   "execution_count": 20,
   "metadata": {},
   "outputs": [
    {
     "data": {
      "text/plain": [
       "array([ 0., 10.])"
      ]
     },
     "execution_count": 20,
     "metadata": {},
     "output_type": "execute_result"
    }
   ],
   "source": [
    "np.linspace(0,10,2)"
   ]
  },
  {
   "cell_type": "code",
   "execution_count": 21,
   "metadata": {},
   "outputs": [
    {
     "data": {
      "text/plain": [
       "array([[ 0.39080555, -0.24757591],\n",
       "       [-0.10405673, -0.16241061],\n",
       "       [-0.87529337,  1.7079972 ],\n",
       "       [ 1.43127616, -0.31564156],\n",
       "       [-0.42173285,  0.03360715],\n",
       "       [-0.92408053,  1.21229436],\n",
       "       [ 0.32235425, -0.85194042],\n",
       "       [-0.24147207,  0.75802112],\n",
       "       [-0.17342402,  1.38674022],\n",
       "       [-0.32864183,  2.2049561 ]])"
      ]
     },
     "execution_count": 21,
     "metadata": {},
     "output_type": "execute_result"
    }
   ],
   "source": [
    "np.random.standard_normal((10, 2))"
   ]
  },
  {
   "cell_type": "code",
   "execution_count": 58,
   "metadata": {},
   "outputs": [
    {
     "name": "stdout",
     "output_type": "stream",
     "text": [
      "(200, 504)\n",
      "[[-0.92580834 -0.48195029  1.0374499  -0.99413138 -0.88380186]]\n",
      "[[-0.92580834 -0.48195029  1.0374499  -0.99413138 -0.88380186]\n",
      " [ 0.05291631 -0.65133116  0.45904212 -1.44478381 -0.71607367]]\n",
      "[[-0.13047768  0.40433956  1.59790309 -0.56847843  1.5050539 ]\n",
      " [ 0.36546945 -0.89350817 -0.52533856  1.01265346  0.20848929]]\n",
      "[[ 0.53481724  1.19356353 -2.16638152  2.07353233]\n",
      " [-1.25897762  0.36816961  1.53799203 -0.80416417]]\n",
      "[[ 0.49594713 -1.29784773 -2.12324165  1.58113189 -1.29656461]]\n",
      "[[0 0 1 0 1]\n",
      " [0 0 0 1 0]]\n",
      "[0 1]\n",
      "[[-0.13047768  0.40433956  1.         -0.56847843  1.        ]\n",
      " [ 0.36546945 -0.89350817 -0.52533856  1.          0.20848929]]\n",
      "[[0 0 0 0 0]\n",
      " [0 0 0 0 0]]\n"
     ]
    }
   ],
   "source": [
    "stock_cnt = 200\n",
    "view_days = 504\n",
    "stock_day_change = np.random.standard_normal((stock_cnt, view_days))\n",
    "print(stock_day_change.shape)\n",
    "print(stock_day_change[0:1,:5])\n",
    "print(stock_day_change[0:2,0:5])\n",
    "print(stock_day_change[-2:,-5:])\n",
    "\n",
    "print(np.diff(stock_day_change[-2:,-5:]))\n",
    "print(np.diff(stock_day_change[-2:,-5:], axis =0))\n",
    "print(stock_day_change[-2:,-5:].astype(int))\n",
    "print(np.unique(stock_day_change[-2:,-5:].astype(int)))\n",
    "\n",
    "tmp = stock_day_change[-2:,-5:]\n",
    "print(np.where(tmp>0.5, 1, tmp))\n",
    "print(np.where(np.logical_and(tmp>0.5,tmp<1),1,0))\n",
    "np.save('./tmp_stock', stock_day_change)"
   ]
  },
  {
   "cell_type": "code",
   "execution_count": 68,
   "metadata": {},
   "outputs": [
    {
     "name": "stdout",
     "output_type": "stream",
     "text": [
      "[[-0.92580834 -0.48195029  1.0374499  -0.99413138]\n",
      " [ 0.05291631 -0.65133116  0.45904212 -1.44478381]\n",
      " [ 0.49665071 -1.45294796 -0.06584653  1.35829852]\n",
      " [ 2.20697388 -1.22065559 -0.43106184 -2.51671118]]\n",
      "最大涨幅：[1.0374499  0.45904212 1.35829852 2.20697388]\n",
      "最大跌幅：[-0.99413138 -1.44478381 -1.45294796 -2.51671118]\n",
      "振幅幅度：[0.81984335 0.72418305 1.02210327 1.72616316]\n",
      "平均振幅：[-0.34111003 -0.39603914  0.08403868 -0.49036368]\n",
      "最大股票涨幅：[ 2.20697388 -0.48195029  1.0374499   1.35829852]\n",
      "最大股票跌幅：[-0.92580834 -1.45294796 -0.43106184 -2.51671118]\n",
      "单日振幅幅度：[1.1335146  0.39826902 0.55393596 1.4159198 ]\n",
      "单日平均振幅：[ 0.45768314 -0.95172125  0.24989591 -0.89933196]\n",
      "最大股票涨幅：[3 0 0 2]\n"
     ]
    }
   ],
   "source": [
    "first_four_stock = stock_day_change[:4, :4].copy()\n",
    "print(first_four_stock)\n",
    "print('最大涨幅：{}'.format(np.max(first_four_stock, axis=1)))\n",
    "print('最大跌幅：{}'.format(np.min(first_four_stock, axis=1)))\n",
    "print('振幅幅度：{}'.format(np.std(first_four_stock, axis=1)))\n",
    "print('平均振幅：{}'.format(np.mean(first_four_stock, axis=1)))\n",
    "\n",
    "print('最大股票涨幅：{}'.format(np.max(first_four_stock, axis=0)))\n",
    "print('最大股票跌幅：{}'.format(np.min(first_four_stock, axis=0)))\n",
    "print('单日振幅幅度：{}'.format(np.std(first_four_stock, axis=0)))\n",
    "print('单日平均振幅：{}'.format(np.mean(first_four_stock, axis=0)))\n",
    "\n",
    "print('最大股票涨幅：{}'.format(np.argmax(first_four_stock, axis=0)))\n"
   ]
  },
  {
   "cell_type": "code",
   "execution_count": 83,
   "metadata": {},
   "outputs": [
    {
     "name": "stdout",
     "output_type": "stream",
     "text": [
      "a交易者期望93.51元，标准差48.48,方差2350.33\n"
     ]
    },
    {
     "data": {
      "text/plain": [
       "<matplotlib.lines.Line2D at 0x11b1cbb70>"
      ]
     },
     "execution_count": 83,
     "metadata": {},
     "output_type": "execute_result"
    },
    {
     "data": {
      "image/png": "[encoded data removed]",
      "text/plain": [
       "<Figure size 432x288 with 1 Axes>"
      ]
     },
     "metadata": {},
     "output_type": "display_data"
    }
   ],
   "source": [
    "a_investor = np.random.normal(loc=100, scale=50, size=(100, 1))\n",
    "b_investor = np.random.normal(loc=100, scale=20, size=(100, 1))\n",
    "print('a交易者期望{0:.2f}元，标准差{1:.2f},方差{2:.2f}'.format(a_investor.mean(),a_investor.std(),a_investor.var()))\n",
    "import matplotlib.pyplot as plt\n",
    "plt.plot(a_investor)\n",
    "a_mean = a_investor.mean()\n",
    "a_std = a_investor.std()\n",
    "plt.axhline(a_mean + a_std, color='r')\n",
    "plt.axhline(a_mean, color='y')\n",
    "plt.axhline(a_mean - a_std, color='g')"
   ]
  },
  {
   "cell_type": "code",
   "execution_count": 91,
   "metadata": {},
   "outputs": [
    {
     "name": "stdout",
     "output_type": "stream",
     "text": [
      "股票0 mean均值期望:-0.076\n",
      "股票0 std标准差:0.976\n"
     ]
    },
    {
     "data": {
      "text/plain": [
       "[<matplotlib.lines.Line2D at 0x1a1d421da0>]"
      ]
     },
     "execution_count": 91,
     "metadata": {},
     "output_type": "execute_result"
    },
    {
     "data": {
      "image/png": "[encoded data removed]",
      "text/plain": [
       "<Figure size 432x288 with 1 Axes>"
      ]
     },
     "metadata": {},
     "output_type": "display_data"
    }
   ],
   "source": [
    "import scipy.stats as scs\n",
    "stock_mean = stock_day_change[0].mean()\n",
    "stock_std = stock_day_change[0].std()\n",
    "print('股票0 mean均值期望:{:.3f}'.format(stock_mean))\n",
    "print('股票0 std标准差:{:.3f}'.format(stock_std))\n",
    "plt.hist(stock_day_change[0],bins=50,density=True)\n",
    "fit_linspace= np.linspace(stock_day_change[0].min(), stock_day_change[0].max())\n",
    "pdf = scs.norm(stock_mean, stock_std).pdf(fit_linspace)\n",
    "plt.plot(fit_linspace,pdf,lw=2,c='r')"
   ]
  },
  {
   "cell_type": "code",
   "execution_count": null,
   "metadata": {},
   "outputs": [],
   "source": []
  }
 ],
 "metadata": {
  "kernelspec": {
   "display_name": "Python 3",
   "language": "python",
   "name": "python3"
  },
  "language_info": {
   "codemirror_mode": {
    "name": "ipython",
    "version": 3
   },
   "file_extension": ".py",
   "mimetype": "text/x-python",
   "name": "python",
   "nbconvert_exporter": "python",
   "pygments_lexer": "ipython3",
   "version": "3.6.7"
  }
 },
 "nbformat": 4,
 "nbformat_minor": 2
}
