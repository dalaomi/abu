{
 "cells": [
  {
   "cell_type": "markdown",
   "metadata": {},
   "source": [
    "### 点击上方的运行按钮，启动回测操作界面，如下图所示：\n",
    "\n",
    "![](./run_cell.png)"
   ]
  },
  {
   "cell_type": "code",
   "execution_count": 1,
   "metadata": {},
   "outputs": [
    {
     "data": {
      "application/vnd.jupyter.widget-view+json": {
       "model_id": "a22d21d3a4614293ac878e21b7dae5e2",
       "version_major": 2,
       "version_minor": 0
      },
      "text/plain": [
       "VBox(children=(Textarea(value='非沙盒数据，特别是回测交易多的情况下，比如全市场测试，回测前需要先将数据进行更新。\\n建议直接从云盘下载入库完毕的数据库，不需要从各个数据源再一个一个的下载数…"
      ]
     },
     "metadata": {},
     "output_type": "display_data"
    },
    {
     "name": "stderr",
     "output_type": "stream",
     "text": [
      "提示\n",
      "提取密码: gvtr\n",
      "建议直接从百度云下载教程中使用的csv格式美股，A股，港股，币类，期货6年日k数据: \n",
      "下载地址: https://pan.baidu.com/s/1geNZgqf\n",
      "提取密码: gvtr\n",
      "下载完成后解压zip得到'csv'文件夹到'/Users/haoxiaoliang/abu/data'目录下\n"
     ]
    }
   ],
   "source": [
    "import widget_update_ui\n",
    "widget_update_ui.show_ui()"
   ]
  },
  {
   "cell_type": "markdown",
   "metadata": {},
   "source": [
    "[abu量化系统github地址](https://github.com/bbfamily/abu) (您的star是我的动力！)\n",
    "\n",
    "[更多阿布量化量化技术文章](http://www.abuquant.com/article)\n",
    "\n",
    "更多关于量化交易相关请阅读[《量化交易之路》](http://www.abuquant.com/books/quantify-trading-road.html)\n",
    "\n",
    "更多关于量化交易与机器学习相关请阅读[《机器学习之路》](http://www.abuquant.com/books/machine-learning-road.html)\n",
    "\n",
    "更多关于abu量化系统请关注微信公众号: abu_quant\n",
    "\n",
    "![](../abupy_lecture/image/qrcode.jpg)"
   ]
  }
 ],
 "metadata": {
  "kernelspec": {
   "display_name": "Python 3",
   "language": "python",
   "name": "python3"
  },
  "language_info": {
   "codemirror_mode": {
    "name": "ipython",
    "version": 3
   },
   "file_extension": ".py",
   "mimetype": "text/x-python",
   "name": "python",
   "nbconvert_exporter": "python",
   "pygments_lexer": "ipython3",
   "version": "3.6.7"
  }
 },
 "nbformat": 4,
 "nbformat_minor": 2
}
